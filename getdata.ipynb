{
 "cells": [
  {
   "cell_type": "markdown",
   "metadata": {},
   "source": [
    "# [Collect Data From The New York Times Over Any Period of Time](https://medium.com/@briennakh/collecting-data-from-the-new-york-times-over-any-period-of-time-3e365504004)\n",
    "\n",
    "Load dependencies."
   ]
  },
  {
   "cell_type": "code",
   "execution_count": 1,
   "metadata": {},
   "outputs": [],
   "source": [
    "import os\n",
    "import pandas as pd\n",
    "import requests\n",
    "import json\n",
    "import time\n",
    "import dateutil\n",
    "import datetime\n",
    "import configparser\n",
    "from dateutil.relativedelta import relativedelta\n",
    "import urllib3\n",
    "urllib3.disable_warnings(urllib3.exceptions.InsecureRequestWarning)"
   ]
  },
  {
   "cell_type": "markdown",
   "metadata": {},
   "source": [
    "Specify the date range."
   ]
  },
  {
   "cell_type": "code",
   "execution_count": 17,
   "metadata": {},
   "outputs": [
    {
     "name": "stdout",
     "output_type": "stream",
     "text": [
      "Start date: 2022-01-01\n",
      "End date: 2022-03-14\n"
     ]
    }
   ],
   "source": [
    "end = datetime.date.today()\n",
    "start = datetime.date(2022, 1, 1)\n",
    "print('Start date: ' + str(start))\n",
    "print('End date: ' + str(end))"
   ]
  },
  {
   "cell_type": "markdown",
   "metadata": {},
   "source": [
    "Make a list of the months that fall within this range, even if partially. We need this information for making calls to the Archive API, since it works with only one month at a time."
   ]
  },
  {
   "cell_type": "code",
   "execution_count": 18,
   "metadata": {},
   "outputs": [
    {
     "data": {
      "text/plain": [
       "[['2022-01-01', '00:00:00'],\n",
       " ['2022-02-01', '00:00:00'],\n",
       " ['2022-03-01', '00:00:00']]"
      ]
     },
     "execution_count": 18,
     "metadata": {},
     "output_type": "execute_result"
    }
   ],
   "source": [
    "months_in_range = [x.split(' ') for x in pd.date_range(start, end, freq='MS').strftime(\"%Y %-m\").tolist()]\n",
    "months_in_range"
   ]
  },
  {
   "cell_type": "markdown",
   "metadata": {},
   "source": [
    "Get our API key via configparser. This is how we avoid exposing the key to the world. Would not be a big loss with this specific use case but is good practice."
   ]
  },
  {
   "cell_type": "code",
   "execution_count": 6,
   "metadata": {},
   "outputs": [],
   "source": [
    "configs = configparser.ConfigParser()\n",
    "configs.read('config.ini')\n",
    "YOUR_API_KEY = 'GJMFK3TKCT98jcuvgAsGGzvXfQNsz0qh'"
   ]
  },
  {
   "cell_type": "markdown",
   "metadata": {},
   "source": [
    "I wrote some code to request and process article data from the Archive API. This code works with only one month at a time for optimal memory management. We send a request to the NYT Archive API for a given month, receive and parse the response, and populate a data frame with some details about each article, including its publication date, main headline, section, subject keywords, document type, and material type. Finally, we save the data frame as a CSV file and move on to the next month, until we have reached the end of the desired time range."
   ]
  },
  {
   "cell_type": "code",
   "execution_count": 19,
   "metadata": {
    "scrolled": true
   },
   "outputs": [],
   "source": [
    "def send_request(date):\n",
    "    '''Sends a request to the NYT Archive API for given date.'''\n",
    "    base_url = 'https://api.nytimes.com/svc/archive/v1/'\n",
    "    url = base_url + '/' + date[0] + '/' + date[1] + '.json?api-key=' + YOUR_API_KEY\n",
    "    try:\n",
    "        response = requests.get(url, verify=False).json()\n",
    "    except Exception:\n",
    "        return None\n",
    "    time.sleep(6)\n",
    "    return response\n",
    "\n",
    "\n",
    "def is_valid(article, date):\n",
    "    '''An article is only worth checking if it is in range, and has a headline.'''\n",
    "    is_in_range = date > start and date < end\n",
    "    has_headline = type(article['headline']) == dict and 'main' in article['headline'].keys()\n",
    "    return is_in_range and has_headline\n",
    "\n",
    "\n",
    "def parse_response(response):\n",
    "    '''Parses and returns response as pandas data frame.'''\n",
    "    data = {'headline': [],  \n",
    "        'date': [], \n",
    "        'doc_type': [],\n",
    "        'material_type': [],\n",
    "        'section': [],\n",
    "        'keywords': []}\n",
    "    print(response)\n",
    "    articles = response['response']['docs'] \n",
    "    for article in articles: # For each article, make sure it falls within our date range\n",
    "        date = dateutil.parser.parse(article['pub_date']).date()\n",
    "        if is_valid(article, date):\n",
    "            data['date'].append(date)\n",
    "            data['headline'].append(article['headline']['main']) \n",
    "            if 'section' in article:\n",
    "                data['section'].append(article['section_name'])\n",
    "            else:\n",
    "                data['section'].append(None)\n",
    "            data['doc_type'].append(article['document_type'])\n",
    "            if 'type_of_material' in article: \n",
    "                data['material_type'].append(article['type_of_material'])\n",
    "            else:\n",
    "                data['material_type'].append(None)\n",
    "            keywords = [keyword['value'] for keyword in article['keywords'] if keyword['name'] == 'subject']\n",
    "            data['keywords'].append(keywords)\n",
    "    return pd.DataFrame(data) \n",
    "\n",
    "\n",
    "def get_data(dates):\n",
    "    '''Sends and parses request/response to/from NYT Archive API for given dates.'''\n",
    "    total = 0\n",
    "    print('Date range: ' + str(dates[0]) + ' to ' + str(dates[-1]))\n",
    "    if not os.path.exists('headlines'):\n",
    "        os.mkdir('headlines')\n",
    "    for date in dates:\n",
    "        print('Working on ' + str(date) + '...')\n",
    "        csv_path = 'headlines/' + date[0] + '-' + date[1] + '.csv'\n",
    "        if not os.path.exists(csv_path): # If we don't already have this month \n",
    "            response = send_request(date)\n",
    "            if response is not None:\n",
    "                df = parse_response(response)\n",
    "                total += len(df)\n",
    "                df.to_csv(csv_path, index=False)\n",
    "                print('Saving ' + csv_path + '...')\n",
    "    print('Number of articles collected: ' + str(total))"
   ]
  },
  {
   "cell_type": "markdown",
   "metadata": {},
   "source": [
    "Note that there are two [rate limits](https://developer.nytimes.com/faq#a11) per API: 4,000 requests per day and 10 requests per minute. We sleep for 6 seconds between calls to avoid hitting the per minute rate limit.\n",
    "\n",
    "Run the code to get and process articles from **months_in_range**."
   ]
  },
  {
   "cell_type": "code",
   "execution_count": 20,
   "metadata": {
    "scrolled": true
   },
   "outputs": [
    {
     "name": "stdout",
     "output_type": "stream",
     "text": [
      "Date range: ['2022-01-01', '00:00:00'] to ['2022-03-01', '00:00:00']\n",
      "Working on ['2022-01-01', '00:00:00']...\n",
      "Working on ['2022-02-01', '00:00:00']...\n",
      "Working on ['2022-03-01', '00:00:00']...\n",
      "Number of articles collected: 0\n"
     ]
    }
   ],
   "source": [
    "get_data(months_in_range)"
   ]
  },
  {
   "cell_type": "markdown",
   "metadata": {},
   "source": [
    "We have collected data for 80,460 articles from the past year! Each month has been saved to a CSV file in the headlines directory.\n",
    "\n",
    "Let's see what the data looks like for the last month that we processed, which is still in memory."
   ]
  },
  {
   "cell_type": "code",
   "execution_count": 21,
   "metadata": {
    "scrolled": true
   },
   "outputs": [
    {
     "ename": "NameError",
     "evalue": "name 'response' is not defined",
     "output_type": "error",
     "traceback": [
      "\u001b[1;31m---------------------------------------------------------------------------\u001b[0m",
      "\u001b[1;31mNameError\u001b[0m                                 Traceback (most recent call last)",
      "\u001b[1;32m~\\AppData\\Local\\Temp/ipykernel_32964/2966680582.py\u001b[0m in \u001b[0;36m<module>\u001b[1;34m\u001b[0m\n\u001b[1;32m----> 1\u001b[1;33m \u001b[0mresponse\u001b[0m\u001b[1;33m\u001b[0m\u001b[1;33m\u001b[0m\u001b[0m\n\u001b[0m",
      "\u001b[1;31mNameError\u001b[0m: name 'response' is not defined"
     ]
    }
   ],
   "source": [
    "response"
   ]
  },
  {
   "cell_type": "markdown",
   "metadata": {},
   "source": [
    "There's a lot more. The documentation tells us what is all there.\n",
    "\n",
    "See what the CSV file for this month looks like."
   ]
  },
  {
   "cell_type": "code",
   "execution_count": 69,
   "metadata": {},
   "outputs": [
    {
     "data": {
      "text/html": [
       "<div>\n",
       "<style scoped>\n",
       "    .dataframe tbody tr th:only-of-type {\n",
       "        vertical-align: middle;\n",
       "    }\n",
       "\n",
       "    .dataframe tbody tr th {\n",
       "        vertical-align: top;\n",
       "    }\n",
       "\n",
       "    .dataframe thead th {\n",
       "        text-align: right;\n",
       "    }\n",
       "</style>\n",
       "<table border=\"1\" class=\"dataframe\">\n",
       "  <thead>\n",
       "    <tr style=\"text-align: right;\">\n",
       "      <th></th>\n",
       "      <th>headline</th>\n",
       "      <th>date</th>\n",
       "      <th>doc_type</th>\n",
       "      <th>material_type</th>\n",
       "      <th>section</th>\n",
       "      <th>keywords</th>\n",
       "    </tr>\n",
       "  </thead>\n",
       "  <tbody>\n",
       "    <tr>\n",
       "      <td>0</td>\n",
       "      <td>Six Months of Hong Kong Protests. How Did We G...</td>\n",
       "      <td>2019-10-01</td>\n",
       "      <td>multimedia</td>\n",
       "      <td>Interactive Feature</td>\n",
       "      <td>None</td>\n",
       "      <td>[Hong Kong Protests (2019)]</td>\n",
       "    </tr>\n",
       "    <tr>\n",
       "      <td>1</td>\n",
       "      <td>Hong Kong, India, North Korea: Your Wednesday ...</td>\n",
       "      <td>2019-10-01</td>\n",
       "      <td>article</td>\n",
       "      <td>briefing</td>\n",
       "      <td>None</td>\n",
       "      <td>[]</td>\n",
       "    </tr>\n",
       "    <tr>\n",
       "      <td>2</td>\n",
       "      <td>Looted Ethiopian Crown Resurfaces in the Nethe...</td>\n",
       "      <td>2019-10-03</td>\n",
       "      <td>article</td>\n",
       "      <td>News</td>\n",
       "      <td>None</td>\n",
       "      <td>[Arts and Antiquities Looting, Smuggling, Robb...</td>\n",
       "    </tr>\n",
       "    <tr>\n",
       "      <td>3</td>\n",
       "      <td>Cora Cahan Named President of the Baryshnikov ...</td>\n",
       "      <td>2019-10-02</td>\n",
       "      <td>article</td>\n",
       "      <td>News</td>\n",
       "      <td>None</td>\n",
       "      <td>[Dancing, Nonprofit Organizations]</td>\n",
       "    </tr>\n",
       "    <tr>\n",
       "      <td>4</td>\n",
       "      <td>These Butterflies Evolved to Eat Poison. How C...</td>\n",
       "      <td>2019-10-02</td>\n",
       "      <td>article</td>\n",
       "      <td>News</td>\n",
       "      <td>None</td>\n",
       "      <td>[Flies, Insects, Genetics and Heredity, Evolut...</td>\n",
       "    </tr>\n",
       "    <tr>\n",
       "      <td>...</td>\n",
       "      <td>...</td>\n",
       "      <td>...</td>\n",
       "      <td>...</td>\n",
       "      <td>...</td>\n",
       "      <td>...</td>\n",
       "      <td>...</td>\n",
       "    </tr>\n",
       "    <tr>\n",
       "      <td>7554</td>\n",
       "      <td>The Age of ‘The Age of Innocence’</td>\n",
       "      <td>2019-11-01</td>\n",
       "      <td>article</td>\n",
       "      <td>Review</td>\n",
       "      <td>None</td>\n",
       "      <td>[Books and Literature]</td>\n",
       "    </tr>\n",
       "    <tr>\n",
       "      <td>7555</td>\n",
       "      <td>Uber Fights to Get Its Edge Back</td>\n",
       "      <td>2019-11-01</td>\n",
       "      <td>article</td>\n",
       "      <td>News</td>\n",
       "      <td>None</td>\n",
       "      <td>[Layoffs and Job Reductions, Car Services and ...</td>\n",
       "    </tr>\n",
       "    <tr>\n",
       "      <td>7556</td>\n",
       "      <td>Breath Tests Aim to Stop Drunk Driving. Can We...</td>\n",
       "      <td>2019-11-01</td>\n",
       "      <td>article</td>\n",
       "      <td>News</td>\n",
       "      <td>None</td>\n",
       "      <td>[Tests (Sobriety), Drunken and Reckless Driving]</td>\n",
       "    </tr>\n",
       "    <tr>\n",
       "      <td>7557</td>\n",
       "      <td>A Defense of Clowns</td>\n",
       "      <td>2019-10-31</td>\n",
       "      <td>article</td>\n",
       "      <td>News</td>\n",
       "      <td>None</td>\n",
       "      <td>[Clowns, Hospitals, Infertility, Children and ...</td>\n",
       "    </tr>\n",
       "    <tr>\n",
       "      <td>7558</td>\n",
       "      <td>Lori Loughlin Pleads Not Guilty to New College...</td>\n",
       "      <td>2019-11-01</td>\n",
       "      <td>article</td>\n",
       "      <td>News</td>\n",
       "      <td>None</td>\n",
       "      <td>[College Admissions Scandal (2019)]</td>\n",
       "    </tr>\n",
       "  </tbody>\n",
       "</table>\n",
       "<p>7559 rows × 6 columns</p>\n",
       "</div>"
      ],
      "text/plain": [
       "                                               headline        date  \\\n",
       "0     Six Months of Hong Kong Protests. How Did We G...  2019-10-01   \n",
       "1     Hong Kong, India, North Korea: Your Wednesday ...  2019-10-01   \n",
       "2     Looted Ethiopian Crown Resurfaces in the Nethe...  2019-10-03   \n",
       "3     Cora Cahan Named President of the Baryshnikov ...  2019-10-02   \n",
       "4     These Butterflies Evolved to Eat Poison. How C...  2019-10-02   \n",
       "...                                                 ...         ...   \n",
       "7554                  The Age of ‘The Age of Innocence’  2019-11-01   \n",
       "7555                   Uber Fights to Get Its Edge Back  2019-11-01   \n",
       "7556  Breath Tests Aim to Stop Drunk Driving. Can We...  2019-11-01   \n",
       "7557                                A Defense of Clowns  2019-10-31   \n",
       "7558  Lori Loughlin Pleads Not Guilty to New College...  2019-11-01   \n",
       "\n",
       "        doc_type        material_type section  \\\n",
       "0     multimedia  Interactive Feature    None   \n",
       "1        article             briefing    None   \n",
       "2        article                 News    None   \n",
       "3        article                 News    None   \n",
       "4        article                 News    None   \n",
       "...          ...                  ...     ...   \n",
       "7554     article               Review    None   \n",
       "7555     article                 News    None   \n",
       "7556     article                 News    None   \n",
       "7557     article                 News    None   \n",
       "7558     article                 News    None   \n",
       "\n",
       "                                               keywords  \n",
       "0                           [Hong Kong Protests (2019)]  \n",
       "1                                                    []  \n",
       "2     [Arts and Antiquities Looting, Smuggling, Robb...  \n",
       "3                    [Dancing, Nonprofit Organizations]  \n",
       "4     [Flies, Insects, Genetics and Heredity, Evolut...  \n",
       "...                                                 ...  \n",
       "7554                             [Books and Literature]  \n",
       "7555  [Layoffs and Job Reductions, Car Services and ...  \n",
       "7556   [Tests (Sobriety), Drunken and Reckless Driving]  \n",
       "7557  [Clowns, Hospitals, Infertility, Children and ...  \n",
       "7558                [College Admissions Scandal (2019)]  \n",
       "\n",
       "[7559 rows x 6 columns]"
      ]
     },
     "execution_count": 69,
     "metadata": {},
     "output_type": "execute_result"
    }
   ],
   "source": [
    "df"
   ]
  },
  {
   "cell_type": "markdown",
   "metadata": {},
   "source": [
    "As seen in the data frame, there is the occasional consistency quirk to watch out for. Sometimes the 1st of a month is considered part of the previous month. Sometimes there is missing data, like with September and October 1978 due to a [multi-union strike](https://github.com/nytimes/public_api_specs/issues/42)."
   ]
  }
 ],
 "metadata": {
  "kernelspec": {
   "display_name": "Python 3 (ipykernel)",
   "language": "python",
   "name": "python3"
  },
  "language_info": {
   "codemirror_mode": {
    "name": "ipython",
    "version": 3
   },
   "file_extension": ".py",
   "mimetype": "text/x-python",
   "name": "python",
   "nbconvert_exporter": "python",
   "pygments_lexer": "ipython3",
   "version": "3.8.12"
  }
 },
 "nbformat": 4,
 "nbformat_minor": 4
}
